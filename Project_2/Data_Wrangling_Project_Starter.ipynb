{
 "cells": [
  {
   "cell_type": "markdown",
   "id": "a6887c3d-9d09-4ab8-bb6e-a0df499005ab",
   "metadata": {
    "id": "GNIwe5N7s0e_"
   },
   "source": [
    "# Real-world Data Wrangling"
   ]
  },
  {
   "cell_type": "markdown",
   "id": "ba0c8842-dde5-4e9f-8b5c-203646baeb66",
   "metadata": {
    "id": "LbN7z7rcuqpO"
   },
   "source": [
    "### **1.1.** Problem Statement\n"
   ]
  },
  {
   "cell_type": "markdown",
   "id": "4a38a110-7909-4d1c-b4f3-68322ce509bf",
   "metadata": {
    "id": "gi6swhjSYqu2"
   },
   "source": [
    "The current project will test the assumption that in colder locations individuals have a higher economic wellbeing, or GDP (economic output per person). In order to achieve this, data from cities' GDP will be retrieved from online databases, as well as the weather per location. Since there were challenges finding datasets with weather information, data from the locations latitude will be used. In other words, is there a link between a city's GDP and their absolute latitude? For exploratory purposes, the link between city's GDP and longitude will also be analyzed."
   ]
  },
  {
   "cell_type": "markdown",
   "id": "e860aa59-3412-43cd-b1ec-e147c3748d5c",
   "metadata": {
    "id": "7e6gS0wL1KTu"
   },
   "source": [
    "#### **Dataset 1 - Cities and Geographical Location**\n",
    "\n",
    "Type: CSV File\n",
    "\n",
    "Method: The data was found in Kaggle (https://www.kaggle.com/datasets/juanmah/world-cities?resource=download&select=worldcities.csv). Since Kaggle offered the option to manually download the file in csv format, I downloaded it and uploaded it to Jupyter.\n",
    "\n",
    "Dataset variables:\n",
    "\n",
    "*   **Variable 1**. city = Name of the city\n",
    "*   **Variable 2**. city_ascii = city as an ASCII string (e.g. Goiania). Left blank if ASCII representation is not possible.\n",
    "*   **Variable 3**. lat = The latitude of the city/town.\n",
    "*   **Variable 4**. lng = The longitude of the city/town.\n",
    "*   **Variable 5**. country = The name of the city/towns country.\n",
    "*   **Variable 6**. iso2 = The alpha-2 iso code of the country.\n",
    "*   **Variable 7**. iso3 = The alpha-3 iso code of the country.\n",
    "*   **Variable 8**. admin_name = The name of the highest level administration region of the city town\n",
    "*   **Variable 9**. capital = Blank string if not a capital, otherwise: - primary - countrys capital - admin - first-level admin capital\n",
    "*   **Variable 10**. population = An estimate of the citys urban population. Only available for some (prominent) cities.\n",
    "*   **Variable 11**. id = id number"
   ]
  },
  {
   "cell_type": "code",
   "execution_count": 170,
   "id": "c365c9a9-c785-4cd5-88a6-eaf2aa55d825",
   "metadata": {
    "id": "Su8E0uLuYkHU"
   },
   "outputs": [],
   "source": [
    "# Dataset 1 was downloaded by using the read pandas function\n",
    "\n",
    "import pandas as pd\n",
    "\n",
    "df_1 = pd.read_csv(\"worldcities.csv\")"
   ]
  },
  {
   "cell_type": "code",
   "execution_count": 171,
   "id": "de12097c-6fc9-4e89-a646-9fdfe20cea30",
   "metadata": {},
   "outputs": [
    {
     "data": {
      "text/html": [
       "<div>\n",
       "<style scoped>\n",
       "    .dataframe tbody tr th:only-of-type {\n",
       "        vertical-align: middle;\n",
       "    }\n",
       "\n",
       "    .dataframe tbody tr th {\n",
       "        vertical-align: top;\n",
       "    }\n",
       "\n",
       "    .dataframe thead th {\n",
       "        text-align: right;\n",
       "    }\n",
       "</style>\n",
       "<table border=\"1\" class=\"dataframe\">\n",
       "  <thead>\n",
       "    <tr style=\"text-align: right;\">\n",
       "      <th></th>\n",
       "      <th>city</th>\n",
       "      <th>city_ascii</th>\n",
       "      <th>lat</th>\n",
       "      <th>lng</th>\n",
       "      <th>country</th>\n",
       "      <th>iso2</th>\n",
       "      <th>iso3</th>\n",
       "      <th>admin_name</th>\n",
       "      <th>capital</th>\n",
       "      <th>population</th>\n",
       "      <th>id</th>\n",
       "    </tr>\n",
       "  </thead>\n",
       "  <tbody>\n",
       "    <tr>\n",
       "      <th>0</th>\n",
       "      <td>Tokyo</td>\n",
       "      <td>Tokyo</td>\n",
       "      <td>35.6897</td>\n",
       "      <td>139.6922</td>\n",
       "      <td>Japan</td>\n",
       "      <td>JP</td>\n",
       "      <td>JPN</td>\n",
       "      <td>Tōkyō</td>\n",
       "      <td>primary</td>\n",
       "      <td>37732000.0</td>\n",
       "      <td>1392685764</td>\n",
       "    </tr>\n",
       "    <tr>\n",
       "      <th>1</th>\n",
       "      <td>Jakarta</td>\n",
       "      <td>Jakarta</td>\n",
       "      <td>-6.1750</td>\n",
       "      <td>106.8275</td>\n",
       "      <td>Indonesia</td>\n",
       "      <td>ID</td>\n",
       "      <td>IDN</td>\n",
       "      <td>Jakarta</td>\n",
       "      <td>primary</td>\n",
       "      <td>33756000.0</td>\n",
       "      <td>1360771077</td>\n",
       "    </tr>\n",
       "    <tr>\n",
       "      <th>2</th>\n",
       "      <td>Delhi</td>\n",
       "      <td>Delhi</td>\n",
       "      <td>28.6100</td>\n",
       "      <td>77.2300</td>\n",
       "      <td>India</td>\n",
       "      <td>IN</td>\n",
       "      <td>IND</td>\n",
       "      <td>Delhi</td>\n",
       "      <td>admin</td>\n",
       "      <td>32226000.0</td>\n",
       "      <td>1356872604</td>\n",
       "    </tr>\n",
       "    <tr>\n",
       "      <th>3</th>\n",
       "      <td>Guangzhou</td>\n",
       "      <td>Guangzhou</td>\n",
       "      <td>23.1300</td>\n",
       "      <td>113.2600</td>\n",
       "      <td>China</td>\n",
       "      <td>CN</td>\n",
       "      <td>CHN</td>\n",
       "      <td>Guangdong</td>\n",
       "      <td>admin</td>\n",
       "      <td>26940000.0</td>\n",
       "      <td>1156237133</td>\n",
       "    </tr>\n",
       "    <tr>\n",
       "      <th>4</th>\n",
       "      <td>Mumbai</td>\n",
       "      <td>Mumbai</td>\n",
       "      <td>19.0761</td>\n",
       "      <td>72.8775</td>\n",
       "      <td>India</td>\n",
       "      <td>IN</td>\n",
       "      <td>IND</td>\n",
       "      <td>Mahārāshtra</td>\n",
       "      <td>admin</td>\n",
       "      <td>24973000.0</td>\n",
       "      <td>1356226629</td>\n",
       "    </tr>\n",
       "  </tbody>\n",
       "</table>\n",
       "</div>"
      ],
      "text/plain": [
       "        city city_ascii      lat       lng    country iso2 iso3   admin_name  \\\n",
       "0      Tokyo      Tokyo  35.6897  139.6922      Japan   JP  JPN        Tōkyō   \n",
       "1    Jakarta    Jakarta  -6.1750  106.8275  Indonesia   ID  IDN      Jakarta   \n",
       "2      Delhi      Delhi  28.6100   77.2300      India   IN  IND        Delhi   \n",
       "3  Guangzhou  Guangzhou  23.1300  113.2600      China   CN  CHN    Guangdong   \n",
       "4     Mumbai     Mumbai  19.0761   72.8775      India   IN  IND  Mahārāshtra   \n",
       "\n",
       "   capital  population          id  \n",
       "0  primary  37732000.0  1392685764  \n",
       "1  primary  33756000.0  1360771077  \n",
       "2    admin  32226000.0  1356872604  \n",
       "3    admin  26940000.0  1156237133  \n",
       "4    admin  24973000.0  1356226629  "
      ]
     },
     "execution_count": 171,
     "metadata": {},
     "output_type": "execute_result"
    }
   ],
   "source": [
    "#The head function was used to visually check if the data was downloaded correctly\n",
    "\n",
    "df_1.head()"
   ]
  },
  {
   "attachments": {},
   "cell_type": "markdown",
   "id": "24e8d979-72f2-4213-977e-5515a04da870",
   "metadata": {
    "id": "hoUjq1tPzz7P"
   },
   "source": [
    "#### **Dataset 2 - Cities and GDP**\n",
    "\n",
    "Type: HTML File\n",
    "\n",
    "Method: Based on the first dataset gathered, my goal was to find data in a tabular format which contained a list of cities (so I could match it with the first dataset), and information on the cities' GDP. The current dataset was found on Wikipedia and I collected the data by programmatically downloading it.\n",
    "\n",
    "Dataset variables:\n",
    "\n",
    "*   **Variable 1**. rank = Rank based on GDP\n",
    "*   **Variable 2**. City proper/metropolitan area = Name of city\n",
    "*   **Variable 3**. Country/region = Name of country\n",
    "*   **Variable 4**. Official est. GDP up to date (billion USD) = Official estimation GDP up to date (billion USD)\n",
    "*   **Variable 5**. Metropolitan population = total population\n",
    "*   **Variable 6**. GDP per capita (USD) = GDP per capita (USD)"
   ]
  },
  {
   "cell_type": "code",
   "execution_count": 172,
   "id": "4c9001b9-62c0-44a3-a6a9-f5129af6e5ef",
   "metadata": {},
   "outputs": [
    {
     "name": "stdout",
     "output_type": "stream",
     "text": [
      "Requirement already satisfied: lxml in /Users/sofiaschlamp/anaconda3/envs/a2e/lib/python3.11/site-packages (5.1.0)\n"
     ]
    }
   ],
   "source": [
    "#Dataset 2 was downloaded programatically, since the HTML file was in a tabular format, lxml was installed\n",
    "\n",
    "import numpy as np\n",
    "!pip install lxml\n",
    "\n",
    "url = 'https://en.wikipedia.org/wiki/List_of_cities_by_GDP#List'\n",
    "\n",
    "df_2 = pd.read_html(url)[0] "
   ]
  },
  {
   "cell_type": "code",
   "execution_count": 173,
   "id": "ad7d1981-7461-4474-8d17-4d6fddb8d7d6",
   "metadata": {},
   "outputs": [
    {
     "data": {
      "text/html": [
       "<div>\n",
       "<style scoped>\n",
       "    .dataframe tbody tr th:only-of-type {\n",
       "        vertical-align: middle;\n",
       "    }\n",
       "\n",
       "    .dataframe tbody tr th {\n",
       "        vertical-align: top;\n",
       "    }\n",
       "\n",
       "    .dataframe thead th {\n",
       "        text-align: right;\n",
       "    }\n",
       "</style>\n",
       "<table border=\"1\" class=\"dataframe\">\n",
       "  <thead>\n",
       "    <tr style=\"text-align: right;\">\n",
       "      <th></th>\n",
       "      <th>Rank</th>\n",
       "      <th>City proper/metropolitan area</th>\n",
       "      <th>Country/region</th>\n",
       "      <th>Official est. GDP up to date (billion US$)</th>\n",
       "      <th>Metropolitan population</th>\n",
       "    </tr>\n",
       "  </thead>\n",
       "  <tbody>\n",
       "    <tr>\n",
       "      <th>0</th>\n",
       "      <td>300+</td>\n",
       "      <td>A Coruña metropolitan area</td>\n",
       "      <td>Spain</td>\n",
       "      <td>28.819 (2020)[5]</td>\n",
       "      <td>1,121,815 (2020)[6]</td>\n",
       "    </tr>\n",
       "    <tr>\n",
       "      <th>1</th>\n",
       "      <td>300+</td>\n",
       "      <td>Aachen</td>\n",
       "      <td>Germany</td>\n",
       "      <td>24.296 (2020)[5]</td>\n",
       "      <td>249,070 (2021)[7]</td>\n",
       "    </tr>\n",
       "    <tr>\n",
       "      <th>2</th>\n",
       "      <td>300+</td>\n",
       "      <td>Aalborg</td>\n",
       "      <td>Denmark</td>\n",
       "      <td>31.855 (2021)[5]</td>\n",
       "      <td>219,487 (2021)[8]</td>\n",
       "    </tr>\n",
       "    <tr>\n",
       "      <th>3</th>\n",
       "      <td>239</td>\n",
       "      <td>Aarhus</td>\n",
       "      <td>Denmark</td>\n",
       "      <td>54.927 (2021)[5]</td>\n",
       "      <td>352,751 (2021)[9]</td>\n",
       "    </tr>\n",
       "    <tr>\n",
       "      <th>4</th>\n",
       "      <td>300+</td>\n",
       "      <td>Abbotsford, British Columbia</td>\n",
       "      <td>Canada</td>\n",
       "      <td>6.239 (2020)[10]</td>\n",
       "      <td>203,907 (2020)[11]</td>\n",
       "    </tr>\n",
       "  </tbody>\n",
       "</table>\n",
       "</div>"
      ],
      "text/plain": [
       "   Rank City proper/metropolitan area Country/region  \\\n",
       "0  300+    A Coruña metropolitan area          Spain   \n",
       "1  300+                        Aachen        Germany   \n",
       "2  300+                       Aalborg        Denmark   \n",
       "3   239                        Aarhus        Denmark   \n",
       "4  300+  Abbotsford, British Columbia         Canada   \n",
       "\n",
       "  Official est. GDP up to date (billion US$) Metropolitan population  \n",
       "0                           28.819 (2020)[5]     1,121,815 (2020)[6]  \n",
       "1                           24.296 (2020)[5]       249,070 (2021)[7]  \n",
       "2                           31.855 (2021)[5]       219,487 (2021)[8]  \n",
       "3                           54.927 (2021)[5]       352,751 (2021)[9]  \n",
       "4                           6.239 (2020)[10]      203,907 (2020)[11]  "
      ]
     },
     "execution_count": 173,
     "metadata": {},
     "output_type": "execute_result"
    }
   ],
   "source": [
    "#The head function was used to visually check if the data was downloaded correctly\n",
    "\n",
    "df_2.head()"
   ]
  },
  {
   "cell_type": "code",
   "execution_count": 174,
   "id": "46a151b9-4372-4333-9aa0-7e3ad3e5c30e",
   "metadata": {},
   "outputs": [],
   "source": [
    "# Saved a file with the raw data\n",
    "df_2.to_csv(\"GDP_raw.csv\", index=False, encoding=\"utf-8\")"
   ]
  },
  {
   "cell_type": "markdown",
   "id": "6873d9c0-dd60-40f4-8964-a8e57ff79fc4",
   "metadata": {
    "id": "QwSWIVmotLgV"
   },
   "source": [
    "## 2. Assess data\n",
    "\n",
    "In both datasets a number of quality and tidiness issues were identified. Below there is an overview:"
   ]
  },
  {
   "cell_type": "markdown",
   "id": "bbde5525-0df8-4351-90fc-b5bb582a61a3",
   "metadata": {
    "id": "adaK2iPNzVu4"
   },
   "source": [
    "### Quality Issue 1: Missing Data in Dataset 1"
   ]
  },
  {
   "cell_type": "markdown",
   "id": "7a4471ae-7772-47b4-8b8e-29a517f8d510",
   "metadata": {
    "id": "SpW59kh-zl8d"
   },
   "source": [
    "Based on a visual inspection of the description of the columns, it can be assumed that in the first dataset, the column city_ascii might have missing data."
   ]
  },
  {
   "cell_type": "code",
   "execution_count": 175,
   "id": "977e3a29-887c-4ef5-800d-494511a65141",
   "metadata": {},
   "outputs": [
    {
     "name": "stdout",
     "output_type": "stream",
     "text": [
      "<class 'pandas.core.frame.DataFrame'>\n",
      "RangeIndex: 47868 entries, 0 to 47867\n",
      "Data columns (total 11 columns):\n",
      " #   Column      Non-Null Count  Dtype  \n",
      "---  ------      --------------  -----  \n",
      " 0   city        47868 non-null  object \n",
      " 1   city_ascii  47867 non-null  object \n",
      " 2   lat         47868 non-null  float64\n",
      " 3   lng         47868 non-null  float64\n",
      " 4   country     47868 non-null  object \n",
      " 5   iso2        47835 non-null  object \n",
      " 6   iso3        47868 non-null  object \n",
      " 7   admin_name  47671 non-null  object \n",
      " 8   capital     13023 non-null  object \n",
      " 9   population  47656 non-null  float64\n",
      " 10  id          47868 non-null  int64  \n",
      "dtypes: float64(3), int64(1), object(7)\n",
      "memory usage: 4.0+ MB\n"
     ]
    }
   ],
   "source": [
    "# Use info function to programatically explore Dataset 1, since this will show the number of nulls\n",
    "\n",
    "df_1.info()"
   ]
  },
  {
   "cell_type": "markdown",
   "id": "ccd6bba6-fdc4-4b02-8621-9505381d72ab",
   "metadata": {},
   "source": [
    "Issue and justification: Based on the visual inspection of the definition of the columns (e.g., city_ascii) it was concluded that date could be missing. When taking a look at the dataset information by using the info function, it is observed that more columns have missing, or non-null data."
   ]
  },
  {
   "cell_type": "markdown",
   "id": "024ddc9a-b3e1-4d4c-8b0a-046cecd92624",
   "metadata": {
    "id": "8Be77N4I1AmE"
   },
   "source": [
    "### Quality Issue 2: Incorrect Data Type in Dataset 2"
   ]
  },
  {
   "cell_type": "markdown",
   "id": "dde2b954-34b7-4b0f-a213-b1bee2582073",
   "metadata": {},
   "source": [
    "After visually inspecting the dataframe, more specificially, observing the first 5 rows of the second dataset, it was noted that there were columns with non-numerical characters. However, data types like integeres and floats are necessary to analyze the data at a later stage."
   ]
  },
  {
   "cell_type": "code",
   "execution_count": 176,
   "id": "b78b7ee4-0faf-47a8-859f-ebabfd99b2cc",
   "metadata": {},
   "outputs": [
    {
     "data": {
      "text/plain": [
       "Rank                                          object\n",
       "City proper/metropolitan area                 object\n",
       "Country/region                                object\n",
       "Official est. GDP up to date (billion US$)    object\n",
       "Metropolitan population                       object\n",
       "dtype: object"
      ]
     },
     "execution_count": 176,
     "metadata": {},
     "output_type": "execute_result"
    }
   ],
   "source": [
    "# Use datatype function to inspect the Dataset 2 progammatically\n",
    "\n",
    "df_2.dtypes"
   ]
  },
  {
   "cell_type": "markdown",
   "id": "19ae0b7c-60ea-4db6-b04d-3d9d9ed555b7",
   "metadata": {},
   "source": [
    "Issue and justification: In the Metropolitan population column, the fact that characters like brackets are present, makes me assume that the data type might be a string but not an integer. This was concluded both in the visual inspection of the first rows, as well as using the dtypes function which provided the data type of the Metropolitan population column. This was also the case for the Official est. GDP up to date, which could be a float instead of a string."
   ]
  },
  {
   "cell_type": "markdown",
   "id": "c54067c9-1bde-454e-87a5-3347506d2ef4",
   "metadata": {
    "id": "lXhGiYyiwwKN"
   },
   "source": [
    "### Tidiness Issue 1: Combined Data in One Row in Dataset 2"
   ]
  },
  {
   "cell_type": "markdown",
   "id": "81d2f14f-1fee-4f93-ab51-efff1c0e151b",
   "metadata": {
    "id": "fleC5rORI0Xl"
   },
   "source": [
    "In the Metropolitan population and Official est. GDP columns of the second dataset, it can be observed from the first rows that the year and the reference are included in the same column.\n",
    "\n"
   ]
  },
  {
   "cell_type": "code",
   "execution_count": 177,
   "id": "293b3ee0-e5a9-41d2-a47e-fbd09238d562",
   "metadata": {},
   "outputs": [
    {
     "data": {
      "text/html": [
       "<div>\n",
       "<style scoped>\n",
       "    .dataframe tbody tr th:only-of-type {\n",
       "        vertical-align: middle;\n",
       "    }\n",
       "\n",
       "    .dataframe tbody tr th {\n",
       "        vertical-align: top;\n",
       "    }\n",
       "\n",
       "    .dataframe thead th {\n",
       "        text-align: right;\n",
       "    }\n",
       "</style>\n",
       "<table border=\"1\" class=\"dataframe\">\n",
       "  <thead>\n",
       "    <tr style=\"text-align: right;\">\n",
       "      <th></th>\n",
       "      <th>Rank</th>\n",
       "      <th>City proper/metropolitan area</th>\n",
       "      <th>Country/region</th>\n",
       "      <th>Official est. GDP up to date (billion US$)</th>\n",
       "      <th>Metropolitan population</th>\n",
       "    </tr>\n",
       "  </thead>\n",
       "  <tbody>\n",
       "    <tr>\n",
       "      <th>884</th>\n",
       "      <td>300+</td>\n",
       "      <td>Yuxi</td>\n",
       "      <td>China</td>\n",
       "      <td>29.840 (2020)[29][234]</td>\n",
       "      <td>2,249,502 (2020)[235]</td>\n",
       "    </tr>\n",
       "    <tr>\n",
       "      <th>885</th>\n",
       "      <td>300+</td>\n",
       "      <td>Zagreb metropolitan area</td>\n",
       "      <td>Croatia</td>\n",
       "      <td>29.63 (2021)[5]</td>\n",
       "      <td>1,189,279 (2021)[450]</td>\n",
       "    </tr>\n",
       "    <tr>\n",
       "      <th>886</th>\n",
       "      <td>300+</td>\n",
       "      <td>Zaragoza metropolitan area</td>\n",
       "      <td>Spain</td>\n",
       "      <td>29.702 (2020)[5]</td>\n",
       "      <td>681,877 (2020)[451]</td>\n",
       "    </tr>\n",
       "    <tr>\n",
       "      <th>887</th>\n",
       "      <td>194</td>\n",
       "      <td>Zhangzhou</td>\n",
       "      <td>China</td>\n",
       "      <td>65.903 (2020)[29][258]</td>\n",
       "      <td>5,054,328 (2020)[259]</td>\n",
       "    </tr>\n",
       "    <tr>\n",
       "      <th>888</th>\n",
       "      <td>72</td>\n",
       "      <td>Zhengzhou</td>\n",
       "      <td>China</td>\n",
       "      <td>192 (2022)[96][97][98]</td>\n",
       "      <td>8,950,000 (2022)[19]</td>\n",
       "    </tr>\n",
       "    <tr>\n",
       "      <th>889</th>\n",
       "      <td>215</td>\n",
       "      <td>Zhenjiang</td>\n",
       "      <td>China</td>\n",
       "      <td>61.182 (2020)[29][197]</td>\n",
       "      <td>3,210,418 (2020)[198]</td>\n",
       "    </tr>\n",
       "    <tr>\n",
       "      <th>890</th>\n",
       "      <td>286</td>\n",
       "      <td>Zhuzhou</td>\n",
       "      <td>China</td>\n",
       "      <td>45.029 (2020)[29]</td>\n",
       "      <td>1,330,000 (2020)[15]</td>\n",
       "    </tr>\n",
       "    <tr>\n",
       "      <th>891</th>\n",
       "      <td>249</td>\n",
       "      <td>Zibo</td>\n",
       "      <td>China</td>\n",
       "      <td>53.260 (2020)[29][127]</td>\n",
       "      <td>4,704,138 (2020)[128]</td>\n",
       "    </tr>\n",
       "    <tr>\n",
       "      <th>892</th>\n",
       "      <td>101</td>\n",
       "      <td>Zürich Metropolitan Area</td>\n",
       "      <td>Switzerland</td>\n",
       "      <td>158.913 (2020)[147]</td>\n",
       "      <td>1,430,000 (2020)[15]</td>\n",
       "    </tr>\n",
       "    <tr>\n",
       "      <th>893</th>\n",
       "      <td>300+</td>\n",
       "      <td>Zwolle</td>\n",
       "      <td>Netherlands</td>\n",
       "      <td>17.936 (2020)[5]</td>\n",
       "      <td>129,840 (2021)[452]</td>\n",
       "    </tr>\n",
       "  </tbody>\n",
       "</table>\n",
       "</div>"
      ],
      "text/plain": [
       "     Rank City proper/metropolitan area Country/region  \\\n",
       "884  300+                          Yuxi          China   \n",
       "885  300+      Zagreb metropolitan area        Croatia   \n",
       "886  300+    Zaragoza metropolitan area          Spain   \n",
       "887   194                     Zhangzhou          China   \n",
       "888    72                     Zhengzhou          China   \n",
       "889   215                     Zhenjiang          China   \n",
       "890   286                       Zhuzhou          China   \n",
       "891   249                          Zibo          China   \n",
       "892   101      Zürich Metropolitan Area    Switzerland   \n",
       "893  300+                        Zwolle    Netherlands   \n",
       "\n",
       "    Official est. GDP up to date (billion US$) Metropolitan population  \n",
       "884                     29.840 (2020)[29][234]   2,249,502 (2020)[235]  \n",
       "885                            29.63 (2021)[5]   1,189,279 (2021)[450]  \n",
       "886                           29.702 (2020)[5]     681,877 (2020)[451]  \n",
       "887                     65.903 (2020)[29][258]   5,054,328 (2020)[259]  \n",
       "888                     192 (2022)[96][97][98]    8,950,000 (2022)[19]  \n",
       "889                     61.182 (2020)[29][197]   3,210,418 (2020)[198]  \n",
       "890                          45.029 (2020)[29]    1,330,000 (2020)[15]  \n",
       "891                     53.260 (2020)[29][127]   4,704,138 (2020)[128]  \n",
       "892                        158.913 (2020)[147]    1,430,000 (2020)[15]  \n",
       "893                           17.936 (2020)[5]     129,840 (2021)[452]  "
      ]
     },
     "execution_count": 177,
     "metadata": {},
     "output_type": "execute_result"
    }
   ],
   "source": [
    "# Use tail function to programmatically inspect the Dataset 2\n",
    "\n",
    "df_2.tail(10)"
   ]
  },
  {
   "cell_type": "markdown",
   "id": "92cc2714-abf2-4d09-bda3-06a3e2037d8c",
   "metadata": {},
   "source": [
    "Issue and justification: Based on the visual inspection of the first rows, as well as using the tail function to check if this data quality issue was also present along the dataset (among several other functions that could be used), it can be concluded that the year, and reference have been combined into one column for both the Official est. GDP up to date and Metropolitan population columns."
   ]
  },
  {
   "cell_type": "markdown",
   "id": "b812a671-5553-477a-acfb-01203663b6de",
   "metadata": {
    "id": "4ffMoRGSwzYj"
   },
   "source": [
    "### Tidiness Issue 2: Spaces in the Column Titles of Dataset 2"
   ]
  },
  {
   "cell_type": "markdown",
   "id": "6ec49263-6391-417e-a140-b5d25ac1f84f",
   "metadata": {
    "id": "XUpeoqokw5Qt"
   },
   "source": [
    "By visually inspecting the dataset 2, it can be observed that the name of the columns have spaces in between, which can be problematic at a later stage when creating functions with the columns."
   ]
  },
  {
   "cell_type": "code",
   "execution_count": 178,
   "id": "aa365b6f-56e5-403d-b1f8-9836d13a1c54",
   "metadata": {},
   "outputs": [
    {
     "name": "stdout",
     "output_type": "stream",
     "text": [
      "<class 'pandas.core.frame.DataFrame'>\n",
      "RangeIndex: 894 entries, 0 to 893\n",
      "Data columns (total 5 columns):\n",
      " #   Column                                      Non-Null Count  Dtype \n",
      "---  ------                                      --------------  ----- \n",
      " 0   Rank                                        894 non-null    object\n",
      " 1   City proper/metropolitan area               894 non-null    object\n",
      " 2   Country/region                              894 non-null    object\n",
      " 3   Official est. GDP up to date (billion US$)  894 non-null    object\n",
      " 4   Metropolitan population                     894 non-null    object\n",
      "dtypes: object(5)\n",
      "memory usage: 35.1+ KB\n"
     ]
    }
   ],
   "source": [
    "# Use info function to explore Dataset 2 where all the names of the columns are listed\n",
    "\n",
    "df_2.info()"
   ]
  },
  {
   "cell_type": "markdown",
   "id": "88808066-c196-4057-9089-e9eae07addcf",
   "metadata": {},
   "source": [
    "Issue and justification: As per the initial observation of the table, as well as using the info function which provided the full name of all columns, it can be concluded that most of the columns have spaces in between."
   ]
  },
  {
   "cell_type": "markdown",
   "id": "ca736769-4af0-4109-a0f7-e2b0e883c060",
   "metadata": {
    "id": "D6gmLnBttpCh"
   },
   "source": [
    "## 3. Clean data\n",
    "In the next section, the four issues identified above are solved. Please note that they are solved in a different order from the ones listed above, as this was necessary to retain data quality and structure."
   ]
  },
  {
   "cell_type": "code",
   "execution_count": 179,
   "id": "3cb792c5-4c8c-4db7-b65b-8d8d42797f8f",
   "metadata": {},
   "outputs": [],
   "source": [
    "# Make copies of the datasets to ensure the raw dataframes are not impacted\n",
    "\n",
    "df_1_copy = df_1.copy()\n",
    "df_2_copy = df_2.copy()"
   ]
  },
  {
   "cell_type": "markdown",
   "id": "92e8448b-9bde-488e-a550-501bf4890f59",
   "metadata": {
    "id": "FmFhN52Yyn3l"
   },
   "source": [
    "### Quality Issue 1: Missing Data in Dataset 1"
   ]
  },
  {
   "cell_type": "code",
   "execution_count": 180,
   "id": "5dd7f06d-321c-4361-b07b-b33703cab0e2",
   "metadata": {},
   "outputs": [],
   "source": [
    "# To ensure data completness, the dropna function was applied to remove missing data \n",
    "\n",
    "df_1_copy_cleaned = df_1_copy.dropna()"
   ]
  },
  {
   "cell_type": "code",
   "execution_count": 181,
   "id": "7e1271cf-5801-403e-add0-a4ffaf0e52fb",
   "metadata": {
    "id": "oUBee-LPytkv"
   },
   "outputs": [
    {
     "name": "stdout",
     "output_type": "stream",
     "text": [
      "<class 'pandas.core.frame.DataFrame'>\n",
      "RangeIndex: 47868 entries, 0 to 47867\n",
      "Data columns (total 11 columns):\n",
      " #   Column      Non-Null Count  Dtype  \n",
      "---  ------      --------------  -----  \n",
      " 0   city        47868 non-null  object \n",
      " 1   city_ascii  47867 non-null  object \n",
      " 2   lat         47868 non-null  float64\n",
      " 3   lng         47868 non-null  float64\n",
      " 4   country     47868 non-null  object \n",
      " 5   iso2        47835 non-null  object \n",
      " 6   iso3        47868 non-null  object \n",
      " 7   admin_name  47671 non-null  object \n",
      " 8   capital     13023 non-null  object \n",
      " 9   population  47656 non-null  float64\n",
      " 10  id          47868 non-null  int64  \n",
      "dtypes: float64(3), int64(1), object(7)\n",
      "memory usage: 4.0+ MB\n",
      "<class 'pandas.core.frame.DataFrame'>\n",
      "Index: 12764 entries, 0 to 47652\n",
      "Data columns (total 11 columns):\n",
      " #   Column      Non-Null Count  Dtype  \n",
      "---  ------      --------------  -----  \n",
      " 0   city        12764 non-null  object \n",
      " 1   city_ascii  12764 non-null  object \n",
      " 2   lat         12764 non-null  float64\n",
      " 3   lng         12764 non-null  float64\n",
      " 4   country     12764 non-null  object \n",
      " 5   iso2        12764 non-null  object \n",
      " 6   iso3        12764 non-null  object \n",
      " 7   admin_name  12764 non-null  object \n",
      " 8   capital     12764 non-null  object \n",
      " 9   population  12764 non-null  float64\n",
      " 10  id          12764 non-null  int64  \n",
      "dtypes: float64(3), int64(1), object(7)\n",
      "memory usage: 1.2+ MB\n"
     ]
    }
   ],
   "source": [
    "# Validatation that the cleaning was successful by using the info function for the previous dataset and the cleaned dataset\n",
    "\n",
    "df_1_copy.info()\n",
    "df_1_copy_cleaned.info()"
   ]
  },
  {
   "cell_type": "markdown",
   "id": "fdd366bd-611c-492d-a1f0-9b8e483cf184",
   "metadata": {},
   "source": [
    "Justification: Missing data was removed by using the dropna function. After removing it, there are still more than 500 rows, which still meets the requirement for this exercise. "
   ]
  },
  {
   "cell_type": "markdown",
   "id": "28374a6a-3175-4ef7-9598-5092069fe07b",
   "metadata": {
    "id": "o51Bt8kwyTzk"
   },
   "source": [
    "### Tidiness Issue 2: Spaces in the Column Titles of Dataset 2"
   ]
  },
  {
   "cell_type": "code",
   "execution_count": 182,
   "id": "ae8f26b9-bc57-4d1c-99ca-59ff227c10d9",
   "metadata": {
    "id": "7zW8O5yx4Y9O"
   },
   "outputs": [],
   "source": [
    "#The data was cleaned by renaming each of the columns by usin the df.rename() function\n",
    "\n",
    "df_2_copy = df_2_copy.rename(columns={'City proper/metropolitan area':'city', 'Country/region':'country',\n",
    "                               'Official est. GDP up to date (billion US$)':'gdp_total', \n",
    "                              'Metropolitan population':'population', 'GDP per capita (US$)':'gdp_per_capita'})    "
   ]
  },
  {
   "cell_type": "code",
   "execution_count": 183,
   "id": "6522f64e-b2e7-4e68-9efa-4f112aad8af7",
   "metadata": {
    "id": "q6I_Sr7lxXi5"
   },
   "outputs": [
    {
     "data": {
      "text/html": [
       "<div>\n",
       "<style scoped>\n",
       "    .dataframe tbody tr th:only-of-type {\n",
       "        vertical-align: middle;\n",
       "    }\n",
       "\n",
       "    .dataframe tbody tr th {\n",
       "        vertical-align: top;\n",
       "    }\n",
       "\n",
       "    .dataframe thead th {\n",
       "        text-align: right;\n",
       "    }\n",
       "</style>\n",
       "<table border=\"1\" class=\"dataframe\">\n",
       "  <thead>\n",
       "    <tr style=\"text-align: right;\">\n",
       "      <th></th>\n",
       "      <th>Rank</th>\n",
       "      <th>city</th>\n",
       "      <th>country</th>\n",
       "      <th>gdp_total</th>\n",
       "      <th>population</th>\n",
       "    </tr>\n",
       "  </thead>\n",
       "  <tbody>\n",
       "    <tr>\n",
       "      <th>0</th>\n",
       "      <td>300+</td>\n",
       "      <td>A Coruña metropolitan area</td>\n",
       "      <td>Spain</td>\n",
       "      <td>28.819 (2020)[5]</td>\n",
       "      <td>1,121,815 (2020)[6]</td>\n",
       "    </tr>\n",
       "    <tr>\n",
       "      <th>1</th>\n",
       "      <td>300+</td>\n",
       "      <td>Aachen</td>\n",
       "      <td>Germany</td>\n",
       "      <td>24.296 (2020)[5]</td>\n",
       "      <td>249,070 (2021)[7]</td>\n",
       "    </tr>\n",
       "    <tr>\n",
       "      <th>2</th>\n",
       "      <td>300+</td>\n",
       "      <td>Aalborg</td>\n",
       "      <td>Denmark</td>\n",
       "      <td>31.855 (2021)[5]</td>\n",
       "      <td>219,487 (2021)[8]</td>\n",
       "    </tr>\n",
       "    <tr>\n",
       "      <th>3</th>\n",
       "      <td>239</td>\n",
       "      <td>Aarhus</td>\n",
       "      <td>Denmark</td>\n",
       "      <td>54.927 (2021)[5]</td>\n",
       "      <td>352,751 (2021)[9]</td>\n",
       "    </tr>\n",
       "    <tr>\n",
       "      <th>4</th>\n",
       "      <td>300+</td>\n",
       "      <td>Abbotsford, British Columbia</td>\n",
       "      <td>Canada</td>\n",
       "      <td>6.239 (2020)[10]</td>\n",
       "      <td>203,907 (2020)[11]</td>\n",
       "    </tr>\n",
       "  </tbody>\n",
       "</table>\n",
       "</div>"
      ],
      "text/plain": [
       "   Rank                          city  country         gdp_total  \\\n",
       "0  300+    A Coruña metropolitan area    Spain  28.819 (2020)[5]   \n",
       "1  300+                        Aachen  Germany  24.296 (2020)[5]   \n",
       "2  300+                       Aalborg  Denmark  31.855 (2021)[5]   \n",
       "3   239                        Aarhus  Denmark  54.927 (2021)[5]   \n",
       "4  300+  Abbotsford, British Columbia   Canada  6.239 (2020)[10]   \n",
       "\n",
       "            population  \n",
       "0  1,121,815 (2020)[6]  \n",
       "1    249,070 (2021)[7]  \n",
       "2    219,487 (2021)[8]  \n",
       "3    352,751 (2021)[9]  \n",
       "4   203,907 (2020)[11]  "
      ]
     },
     "execution_count": 183,
     "metadata": {},
     "output_type": "execute_result"
    }
   ],
   "source": [
    "#The cleaning was validated by using the df.head() function\n",
    "\n",
    "df_2_copy.head()"
   ]
  },
  {
   "cell_type": "markdown",
   "id": "faab72d1-cb5b-4b72-9807-bbf260fe5384",
   "metadata": {},
   "source": [
    "Justification: The goal of cleaning the name of the columns was to have more succint names and remove the spaces for underlines. Along this process I also ensure that the city column had the same name in both datasets so they could be merged at a later stage."
   ]
  },
  {
   "cell_type": "markdown",
   "id": "ef41d2a1-fa99-4677-966e-9a7211904f72",
   "metadata": {
    "id": "bIUrrfSNyOPR"
   },
   "source": [
    "### Tidiness Issue 1: Combined Data in One Row in Dataset 2"
   ]
  },
  {
   "cell_type": "code",
   "execution_count": 184,
   "id": "40a7ca04-6011-47b8-9c4b-dc482d4c8f8f",
   "metadata": {
    "id": "fib0zAm333bn"
   },
   "outputs": [],
   "source": [
    "#Data related to the year and reference in columns gpd_total and population were removed\n",
    "\n",
    "df_2_copy[\"gdp_total\"] = df_2_copy[\"gdp_total\"].apply(lambda x: x[:x.find(' ')] + '')\n",
    "df_2_copy[\"population\"] = df_2_copy[\"population\"].apply(lambda x: x[:x.find(' ')] + '')\n"
   ]
  },
  {
   "cell_type": "code",
   "execution_count": 185,
   "id": "fdcece1d-55d3-44b9-a4ef-983900dcccb5",
   "metadata": {
    "id": "yhrnUGY_Nk8B"
   },
   "outputs": [
    {
     "data": {
      "text/html": [
       "<div>\n",
       "<style scoped>\n",
       "    .dataframe tbody tr th:only-of-type {\n",
       "        vertical-align: middle;\n",
       "    }\n",
       "\n",
       "    .dataframe tbody tr th {\n",
       "        vertical-align: top;\n",
       "    }\n",
       "\n",
       "    .dataframe thead th {\n",
       "        text-align: right;\n",
       "    }\n",
       "</style>\n",
       "<table border=\"1\" class=\"dataframe\">\n",
       "  <thead>\n",
       "    <tr style=\"text-align: right;\">\n",
       "      <th></th>\n",
       "      <th>Rank</th>\n",
       "      <th>city</th>\n",
       "      <th>country</th>\n",
       "      <th>gdp_total</th>\n",
       "      <th>population</th>\n",
       "    </tr>\n",
       "  </thead>\n",
       "  <tbody>\n",
       "    <tr>\n",
       "      <th>0</th>\n",
       "      <td>300+</td>\n",
       "      <td>A Coruña metropolitan area</td>\n",
       "      <td>Spain</td>\n",
       "      <td>28.819</td>\n",
       "      <td>1,121,815</td>\n",
       "    </tr>\n",
       "    <tr>\n",
       "      <th>1</th>\n",
       "      <td>300+</td>\n",
       "      <td>Aachen</td>\n",
       "      <td>Germany</td>\n",
       "      <td>24.296</td>\n",
       "      <td>249,070</td>\n",
       "    </tr>\n",
       "    <tr>\n",
       "      <th>2</th>\n",
       "      <td>300+</td>\n",
       "      <td>Aalborg</td>\n",
       "      <td>Denmark</td>\n",
       "      <td>31.855</td>\n",
       "      <td>219,487</td>\n",
       "    </tr>\n",
       "    <tr>\n",
       "      <th>3</th>\n",
       "      <td>239</td>\n",
       "      <td>Aarhus</td>\n",
       "      <td>Denmark</td>\n",
       "      <td>54.927</td>\n",
       "      <td>352,751</td>\n",
       "    </tr>\n",
       "    <tr>\n",
       "      <th>4</th>\n",
       "      <td>300+</td>\n",
       "      <td>Abbotsford, British Columbia</td>\n",
       "      <td>Canada</td>\n",
       "      <td>6.239</td>\n",
       "      <td>203,907</td>\n",
       "    </tr>\n",
       "  </tbody>\n",
       "</table>\n",
       "</div>"
      ],
      "text/plain": [
       "   Rank                          city  country gdp_total population\n",
       "0  300+    A Coruña metropolitan area    Spain    28.819  1,121,815\n",
       "1  300+                        Aachen  Germany    24.296    249,070\n",
       "2  300+                       Aalborg  Denmark    31.855    219,487\n",
       "3   239                        Aarhus  Denmark    54.927    352,751\n",
       "4  300+  Abbotsford, British Columbia   Canada     6.239    203,907"
      ]
     },
     "execution_count": 185,
     "metadata": {},
     "output_type": "execute_result"
    }
   ],
   "source": [
    "#The cleaning was validated by using the df.head() function\n",
    "\n",
    "df_2_copy.head()"
   ]
  },
  {
   "cell_type": "markdown",
   "id": "5092e23f-8614-4a64-aafc-4a019b4a10d3",
   "metadata": {},
   "source": [
    "Justification: In order to change the data type of columns gdp_total and population, first they had to be cleaned by removing the information on the year and the reference. Information on the year and reference had to be removed for future analysis (e.g., creating a scatter plot)"
   ]
  },
  {
   "cell_type": "markdown",
   "id": "d7b9ec00-adae-488a-b294-0b29efaf5470",
   "metadata": {
    "id": "n_DAUbJrymBL"
   },
   "source": [
    "### Quality Issue 2: Incorrect Data Type in Dataset 2"
   ]
  },
  {
   "cell_type": "code",
   "execution_count": 186,
   "id": "704cc41e-d500-4fbf-af3b-69ef48fd73f4",
   "metadata": {
    "id": "5Yfb-Yu5MTuE"
   },
   "outputs": [],
   "source": [
    "#The datatype for gdp_total and population is changed from object to float and to integer respectively, \n",
    "#since string data would not be possible to use for analysis like scatter plots\n",
    "\n",
    "#Since the first time I ran it, I got the error that the string cannot be converted into a float, I removed the commas from both columns\n",
    "df_2_copy[\"gdp_total\"] = df_2_copy[\"gdp_total\"].str.replace(',', '')\n",
    "df_2_copy[\"population\"] = df_2_copy[\"population\"].str.replace(',', '')\n",
    "\n",
    "#Based on the errors I got when running the code, I also had to edit three data points\n",
    "\n",
    "df_2_copy[\"gdp_total\"] = df_2_copy[\"gdp_total\"].str.replace('(2015–16)[421', '')\n",
    "df_2_copy[\"population\"] = df_2_copy[\"population\"].str.replace('\\u2002(2022)[99', '')\n",
    "df_2_copy[\"population\"] = df_2_copy[\"population\"].str.replace('\\t(2022)[305', '')\n",
    "\n",
    "\n",
    "#Convert both columns to float and integer respectively\n",
    "df_2_copy[\"gdp_total\"]=df_2_copy[\"gdp_total\"].astype(float)\n",
    "df_2_copy[\"population\"]=df_2_copy[\"population\"].astype(int)"
   ]
  },
  {
   "cell_type": "code",
   "execution_count": 187,
   "id": "1a93ba7b-6d5f-42cc-81a3-81e5dcc2ced1",
   "metadata": {
    "id": "ionB2sRaMUmY"
   },
   "outputs": [
    {
     "name": "stdout",
     "output_type": "stream",
     "text": [
      "<class 'pandas.core.frame.DataFrame'>\n",
      "RangeIndex: 894 entries, 0 to 893\n",
      "Data columns (total 5 columns):\n",
      " #   Column      Non-Null Count  Dtype  \n",
      "---  ------      --------------  -----  \n",
      " 0   Rank        894 non-null    object \n",
      " 1   city        894 non-null    object \n",
      " 2   country     894 non-null    object \n",
      " 3   gdp_total   894 non-null    float64\n",
      " 4   population  894 non-null    int64  \n",
      "dtypes: float64(1), int64(1), object(3)\n",
      "memory usage: 35.1+ KB\n"
     ]
    }
   ],
   "source": [
    "#The cleaning was validated by using the info function\n",
    "\n",
    "df_2_copy.info()"
   ]
  },
  {
   "cell_type": "markdown",
   "id": "7d7929ba-f8aa-478c-8e0b-2db19ab51f2d",
   "metadata": {},
   "source": [
    "Justification: In order to change gdp_total to a float, and population to an integer, first I had to conduct more cleaning, as there were datapoints with special characters."
   ]
  },
  {
   "cell_type": "code",
   "execution_count": 188,
   "id": "4d80a138-eb66-4eb9-9a13-dba37154f4dd",
   "metadata": {},
   "outputs": [
    {
     "name": "stderr",
     "output_type": "stream",
     "text": [
      "/var/folders/gs/_cm6_9jn6z55_nl7x8x8t8000000gn/T/ipykernel_23072/672717557.py:4: SettingWithCopyWarning: \n",
      "A value is trying to be set on a copy of a slice from a DataFrame.\n",
      "Try using .loc[row_indexer,col_indexer] = value instead\n",
      "\n",
      "See the caveats in the documentation: https://pandas.pydata.org/pandas-docs/stable/user_guide/indexing.html#returning-a-view-versus-a-copy\n",
      "  df_1_copy_cleaned[\"lat\"] = df_1_copy_cleaned[\"lat\"].abs()\n"
     ]
    },
    {
     "data": {
      "text/plain": [
       "count    12764.000000\n",
       "mean        30.135156\n",
       "std         17.668653\n",
       "min          0.020600\n",
       "25%         13.391250\n",
       "50%         33.979700\n",
       "75%         45.483300\n",
       "max         70.663400\n",
       "Name: lat, dtype: float64"
      ]
     },
     "execution_count": 188,
     "metadata": {},
     "output_type": "execute_result"
    }
   ],
   "source": [
    "#There is one more relevant step that is needed for the analysis, which is to change all the latitudes to absolute values\n",
    "#in order to achieve this, all the minus characters will be removed\n",
    "\n",
    "df_1_copy_cleaned[\"lat\"] = df_1_copy_cleaned[\"lat\"].abs()\n",
    "\n",
    "#And the data cleaning is checked using the describe function\n",
    "df_1_copy_cleaned[\"lat\"].describe()"
   ]
  },
  {
   "cell_type": "markdown",
   "id": "46f96454-baaa-4534-a056-d5b8b9b28c0c",
   "metadata": {},
   "source": [
    "### **Unnecessary variables were removed, and datasets combined**\n",
    "\n",
    "All unnecessary variables for the research question were removed to simplify the dataset"
   ]
  },
  {
   "cell_type": "code",
   "execution_count": 197,
   "id": "a7cc33ec-9a9b-4f3d-b731-b9c89e7aad51",
   "metadata": {},
   "outputs": [],
   "source": [
    "# Unnecessary variables removed for both datasets\n",
    "\n",
    "ncolumns_df_1_copy_cleaned = df_1_copy_cleaned.drop([\"city_ascii\",\"country\",\"iso2\",\"iso3\",\n",
    "                                                \"admin_name\",\"capital\",\"population\",\"id\"], axis=1)\n",
    "\n",
    "ncolumns_df_2_copy = df_2_copy.drop([\"Rank\",\"population\",\"country\"], axis=1)"
   ]
  },
  {
   "cell_type": "code",
   "execution_count": 199,
   "id": "2cefe3a8-fc74-4e4e-be3a-25370dc08ea5",
   "metadata": {},
   "outputs": [
    {
     "data": {
      "text/html": [
       "<div>\n",
       "<style scoped>\n",
       "    .dataframe tbody tr th:only-of-type {\n",
       "        vertical-align: middle;\n",
       "    }\n",
       "\n",
       "    .dataframe tbody tr th {\n",
       "        vertical-align: top;\n",
       "    }\n",
       "\n",
       "    .dataframe thead th {\n",
       "        text-align: right;\n",
       "    }\n",
       "</style>\n",
       "<table border=\"1\" class=\"dataframe\">\n",
       "  <thead>\n",
       "    <tr style=\"text-align: right;\">\n",
       "      <th></th>\n",
       "      <th>city</th>\n",
       "      <th>lat</th>\n",
       "      <th>lng</th>\n",
       "      <th>gdp_total</th>\n",
       "    </tr>\n",
       "  </thead>\n",
       "  <tbody>\n",
       "    <tr>\n",
       "      <th>0</th>\n",
       "      <td>A Coruña metropolitan area</td>\n",
       "      <td>NaN</td>\n",
       "      <td>NaN</td>\n",
       "      <td>28.819</td>\n",
       "    </tr>\n",
       "    <tr>\n",
       "      <th>1</th>\n",
       "      <td>Aachen</td>\n",
       "      <td>50.7756</td>\n",
       "      <td>6.0836</td>\n",
       "      <td>24.296</td>\n",
       "    </tr>\n",
       "    <tr>\n",
       "      <th>2</th>\n",
       "      <td>Aalborg</td>\n",
       "      <td>57.0500</td>\n",
       "      <td>9.9167</td>\n",
       "      <td>31.855</td>\n",
       "    </tr>\n",
       "    <tr>\n",
       "      <th>3</th>\n",
       "      <td>Aarhus</td>\n",
       "      <td>56.1572</td>\n",
       "      <td>10.2107</td>\n",
       "      <td>54.927</td>\n",
       "    </tr>\n",
       "    <tr>\n",
       "      <th>4</th>\n",
       "      <td>Abbotsford, British Columbia</td>\n",
       "      <td>NaN</td>\n",
       "      <td>NaN</td>\n",
       "      <td>6.239</td>\n",
       "    </tr>\n",
       "    <tr>\n",
       "      <th>...</th>\n",
       "      <td>...</td>\n",
       "      <td>...</td>\n",
       "      <td>...</td>\n",
       "      <td>...</td>\n",
       "    </tr>\n",
       "    <tr>\n",
       "      <th>900</th>\n",
       "      <td>Zhenjiang</td>\n",
       "      <td>32.1880</td>\n",
       "      <td>119.4240</td>\n",
       "      <td>61.182</td>\n",
       "    </tr>\n",
       "    <tr>\n",
       "      <th>901</th>\n",
       "      <td>Zhuzhou</td>\n",
       "      <td>27.8290</td>\n",
       "      <td>113.1330</td>\n",
       "      <td>45.029</td>\n",
       "    </tr>\n",
       "    <tr>\n",
       "      <th>902</th>\n",
       "      <td>Zibo</td>\n",
       "      <td>NaN</td>\n",
       "      <td>NaN</td>\n",
       "      <td>53.260</td>\n",
       "    </tr>\n",
       "    <tr>\n",
       "      <th>903</th>\n",
       "      <td>Zürich Metropolitan Area</td>\n",
       "      <td>NaN</td>\n",
       "      <td>NaN</td>\n",
       "      <td>158.913</td>\n",
       "    </tr>\n",
       "    <tr>\n",
       "      <th>904</th>\n",
       "      <td>Zwolle</td>\n",
       "      <td>52.5167</td>\n",
       "      <td>6.1000</td>\n",
       "      <td>17.936</td>\n",
       "    </tr>\n",
       "  </tbody>\n",
       "</table>\n",
       "<p>905 rows × 4 columns</p>\n",
       "</div>"
      ],
      "text/plain": [
       "                             city      lat       lng  gdp_total\n",
       "0      A Coruña metropolitan area      NaN       NaN     28.819\n",
       "1                          Aachen  50.7756    6.0836     24.296\n",
       "2                         Aalborg  57.0500    9.9167     31.855\n",
       "3                          Aarhus  56.1572   10.2107     54.927\n",
       "4    Abbotsford, British Columbia      NaN       NaN      6.239\n",
       "..                            ...      ...       ...        ...\n",
       "900                     Zhenjiang  32.1880  119.4240     61.182\n",
       "901                       Zhuzhou  27.8290  113.1330     45.029\n",
       "902                          Zibo      NaN       NaN     53.260\n",
       "903      Zürich Metropolitan Area      NaN       NaN    158.913\n",
       "904                        Zwolle  52.5167    6.1000     17.936\n",
       "\n",
       "[905 rows x 4 columns]"
      ]
     },
     "execution_count": 199,
     "metadata": {},
     "output_type": "execute_result"
    }
   ],
   "source": [
    "# Combine datasets 1 & 2 in order to conduct further analyzes\n",
    "\n",
    "merged_df = pd.merge(ncolumns_df_1_copy_cleaned, ncolumns_df_2_copy, on=['city'], how='right')\n",
    "merged_df"
   ]
  },
  {
   "cell_type": "markdown",
   "id": "8b3b9e64-51ec-4c42-883f-0f73fb0fbbce",
   "metadata": {
    "id": "F42urHuzttjF"
   },
   "source": [
    "## 4. Save merged file"
   ]
  },
  {
   "cell_type": "code",
   "execution_count": 200,
   "id": "84d02206-e47f-4cea-a576-aba4ada66073",
   "metadata": {
    "id": "V3uay7EJUV_L"
   },
   "outputs": [],
   "source": [
    "# Data was saved\n",
    "\n",
    "merged_df.to_csv(\"worldcities_and_GDP_cleaned.csv\", index=False, encoding=\"utf-8\")"
   ]
  },
  {
   "cell_type": "markdown",
   "id": "e289f607-f51f-488f-91bb-670067baa291",
   "metadata": {
    "id": "cGy_yddGtzhM"
   },
   "source": [
    "## 5. Research question analysis"
   ]
  },
  {
   "cell_type": "markdown",
   "id": "dfbb90ae-238e-4f1b-889c-fb779310142b",
   "metadata": {
    "id": "gjedE4s4ZkEd"
   },
   "source": [
    "*Research question:* Is there a link between a city's GDP and their absolute latitude?"
   ]
  },
  {
   "cell_type": "code",
   "execution_count": 193,
   "id": "acc3df62-d166-49c8-8f69-f9179e0c409c",
   "metadata": {
    "id": "6fdK_8ZGZm9R"
   },
   "outputs": [
    {
     "data": {
      "text/plain": [
       "Text(0, 0.5, 'GDP Total')"
      ]
     },
     "execution_count": 193,
     "metadata": {},
     "output_type": "execute_result"
    },
    {
     "data": {
      "image/png": "[encoded data removed]",
      "text/plain": [
       "<Figure size 640x480 with 1 Axes>"
      ]
     },
     "metadata": {},
     "output_type": "display_data"
    }
   ],
   "source": [
    "#To assess the link between a city's GDP and their absolute latitude, a scatter plot was visualized\n",
    "\n",
    "Figure = merged_df.plot(x=\"lat\", y=\"gdp_total\", kind=\"scatter\");\n",
    "Figure.set_xlabel(\"Latitude\")\n",
    "Figure.set_ylabel(\"GDP Total\")"
   ]
  },
  {
   "cell_type": "code",
   "execution_count": 201,
   "id": "3dcae9a8-03a4-4d56-a9f8-683a1f148204",
   "metadata": {
    "id": "6fdK_8ZGZm9R"
   },
   "outputs": [
    {
     "data": {
      "text/plain": [
       "Text(0, 0.5, 'GDP Total')"
      ]
     },
     "execution_count": 201,
     "metadata": {},
     "output_type": "execute_result"
    },
    {
     "data": {
      "image/png": "[encoded data removed]",
      "text/plain": [
       "<Figure size 640x480 with 1 Axes>"
      ]
     },
     "metadata": {},
     "output_type": "display_data"
    }
   ],
   "source": [
    "#For exploratory purposes, to assess the link between a city's GDP and their longitude, a scatter plot was visualized\n",
    "\n",
    "Figure = merged_df.plot(x=\"lng\", y=\"gdp_total\", kind=\"scatter\");\n",
    "Figure.set_xlabel(\"Longitude\")\n",
    "Figure.set_ylabel(\"GDP Total\")"
   ]
  },
  {
   "cell_type": "markdown",
   "id": "08286618-63e1-40ed-b3dc-99565470d8fc",
   "metadata": {
    "id": "K5RgvMGUZoHn"
   },
   "source": [
    "There seems to be no strong link between the geographical location of a city and the total GDP. While a large GDP can be observed between the latitudes 20 and 40 (and potentially also -20 and -40), no conclusions can be made without further analyses for either the latitude or langitude values of a city."
   ]
  },
  {
   "cell_type": "markdown",
   "id": "5dad38be-b46a-4d01-b9fb-a5801c83f099",
   "metadata": {
    "id": "0ezWXXZVj-TP"
   },
   "source": [
    "### **6:** Reflection\n"
   ]
  },
  {
   "cell_type": "markdown",
   "id": "1a2b3c75-156f-479c-ba39-60c41bf16ba6",
   "metadata": {
    "id": "XB3RBDG5kFe1"
   },
   "source": [
    "If I had more time to complete this project, I would have searched for another dataset that I could download programatically in which the average, max, and min, weather values were provided per location. Some issues I would have further explored are outliers, or if there were many locations in the same country that could have skewed the data."
   ]
  },
  {
   "cell_type": "code",
   "execution_count": null,
   "id": "6ed85ebc-8797-4b9c-bba1-9c5e7a29ae47",
   "metadata": {},
   "outputs": [],
   "source": []
  }
 ],
 "metadata": {
  "kernelspec": {
   "display_name": "Python 3 (ipykernel)",
   "language": "python",
   "name": "python3"
  },
  "language_info": {
   "codemirror_mode": {
    "name": "ipython",
    "version": 3
   },
   "file_extension": ".py",
   "mimetype": "text/x-python",
   "name": "python",
   "nbconvert_exporter": "python",
   "pygments_lexer": "ipython3",
   "version": "3.11.8"
  }
 },
 "nbformat": 4,
 "nbformat_minor": 5
}
